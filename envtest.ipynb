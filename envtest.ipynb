{
 "cells": [
  {
   "cell_type": "code",
   "execution_count": 1,
   "metadata": {},
   "outputs": [
    {
     "name": "stdout",
     "output_type": "stream",
     "text": [
      "env: DISPLAY=:1\n"
     ]
    }
   ],
   "source": [
    "%set_env DISPLAY=:1"
   ]
  },
  {
   "cell_type": "code",
   "execution_count": 2,
   "metadata": {},
   "outputs": [
    {
     "name": "stdout",
     "output_type": "stream",
     "text": [
      "RoboHive:> Registering Arms Envs\n",
      "RoboHive:> Registering Myo Envs\n",
      "RoboHive:> Registering Hand Envs\n",
      "RoboHive:> Registering Claw Envs\n",
      "RoboHive:> Registering Appliances Envs\n",
      "RoboHive:> Registering Multi-Task (2 subtasks) Envs\n",
      "RoboHive:> Registering FrankaKitchen (FK1) Envs\n",
      "RoboHive:> Registering Multi-Task (9 subtasks) Envs\n",
      "RoboHive:> Registering Quadruped Envs\n",
      "\u001b[36m    RoboHive: A unified framework for robot learning | https://sites.google.com/view/robohive\n",
      "        Code: https://github.com/vikashplus/robohive/stargazers (add a star to support the project)\n",
      "    \u001b[0m\n"
     ]
    }
   ],
   "source": [
    "import gym\n",
    "import robohive\n",
    "\n",
    "# env = gym.make(\"FrankaReachFixedMulti-v0\")\n",
    "env = gym.make(\"FrankaReachFixedMulti-v0\",\n",
    "               visual_keys=[\n",
    "                 \"rgb:franka0_front_cam:256x256:1d\",\n",
    "                 \"rgb:franka1_front_cam:256x256:1d\",\n",
    "                 \"rgb:franka2_front_cam:256x256:1d\"\n",
    "               ])"
   ]
  },
  {
   "cell_type": "code",
   "execution_count": 3,
   "metadata": {},
   "outputs": [
    {
     "data": {
      "text/plain": [
       "(Box(85,), Box(30,))"
      ]
     },
     "execution_count": 3,
     "metadata": {},
     "output_type": "execute_result"
    }
   ],
   "source": [
    "env.observation_space, env.action_space # 9 x 3"
   ]
  },
  {
   "cell_type": "code",
   "execution_count": 4,
   "metadata": {},
   "outputs": [],
   "source": [
    "obs = env.reset()"
   ]
  },
  {
   "cell_type": "code",
   "execution_count": 5,
   "metadata": {},
   "outputs": [
    {
     "data": {
      "text/plain": [
       "{'time': array([0.]),\n",
       " 'rgb:franka0_front_cam:256x256:1d': array([122, 118, 108, ...,  92,  88,  85], dtype=uint8),\n",
       " 'rgb:franka1_front_cam:256x256:1d': array([138, 130, 121, ...,  80,  77,  74], dtype=uint8),\n",
       " 'rgb:franka2_front_cam:256x256:1d': array([145, 134, 124, ...,  84,  82,  79], dtype=uint8)}"
      ]
     },
     "execution_count": 5,
     "metadata": {},
     "output_type": "execute_result"
    }
   ],
   "source": [
    "visuals = env.get_visuals(); visuals"
   ]
  },
  {
   "cell_type": "code",
   "execution_count": 9,
   "metadata": {},
   "outputs": [
    {
     "data": {
      "text/plain": [
       "(256, 256, 3)"
      ]
     },
     "execution_count": 9,
     "metadata": {},
     "output_type": "execute_result"
    }
   ],
   "source": [
    "# fig, axes = plt.subplots(1, 3)\n",
    "visuals[\"rgb:franka0_front_cam:256x256:1d\"].reshape(256, 256, 3).shape"
   ]
  }
 ],
 "metadata": {
  "kernelspec": {
   "display_name": "robohive",
   "language": "python",
   "name": "python3"
  },
  "language_info": {
   "codemirror_mode": {
    "name": "ipython",
    "version": 3
   },
   "file_extension": ".py",
   "mimetype": "text/x-python",
   "name": "python",
   "nbconvert_exporter": "python",
   "pygments_lexer": "ipython3",
   "version": "3.10.13"
  }
 },
 "nbformat": 4,
 "nbformat_minor": 2
}
